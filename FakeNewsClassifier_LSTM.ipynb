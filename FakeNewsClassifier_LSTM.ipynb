{
  "nbformat": 4,
  "nbformat_minor": 0,
  "metadata": {
    "colab": {
      "provenance": []
    },
    "kernelspec": {
      "name": "python3",
      "display_name": "Python 3"
    },
    "language_info": {
      "name": "python"
    },
    "accelerator": "GPU",
    "gpuClass": "standard"
  },
  "cells": [
    {
      "cell_type": "markdown",
      "source": [
        "#Fake News Classifier Using LSTM\n",
        "\n",
        "`Long Short-Term Memory (LSTM)` is a type of `recurrent neural network (RNN)` that is commonly used for natural language processing (NLP) tasks such as fake news classification. There are several reasons why LSTM is a good choice for these tasks:\n",
        "\n",
        "1. **Handling sequential data**: `LSTM` is designed to handle sequential data, which is the type of data that is common in NLP tasks. In fake news classification, the order of words in the news text is important, `LSTM` is able to capture the dependencies between the words in the text and make use of the context to improve the classification performance.\n",
        "\n",
        "2. **Handling long-term dependencies**: In NLP tasks, the meaning of a word can depend on the context in which it is used, which can span a large number of words. Traditional `RNNs` can have difficulty handling such long-term dependencies, but `LSTMs` are specifically designed to handle these types of dependencies by using gates to control the flow of information through the network.\n",
        "\n",
        "3. **Handling variable-length input**: `LSTMs` can handle variable-length input, which is common in NLP tasks where the length of text can vary. This is important in fake news classification, as news text can be of different lengths.\n",
        "\n",
        "4. **Handling noise and irrelevant information**: In the case of fake news classification, the text data can be noisy or contain irrelevant information. `LSTM's` ability to selectively retain or discard information can help to handle such noise and irrelevant information.\n",
        "\n",
        "5. **Handling overfitting**: `LSTM's` ability to store information for a long time in the cell state can help to prevent overfitting, as it can learn from the long-term dependencies in the data.\n",
        "\n",
        "It's worth noting that `LSTM` is not the only deep learning model used for NLP and fake news classification, other deep learning models like `Transformer` and `BERT` can also be used. The choice of model depends on the specific characteristics of the data and the task."
      ],
      "metadata": {
        "id": "Yu0Ye9EkIqsJ"
      }
    },
    {
      "cell_type": "markdown",
      "source": [
        "## Data Pre-processing\n",
        "\n",
        "We will first preprocess the data by cleaning the text, removing stopwords, and tokenizing the text. Then we will convert the text into numerical data by using techniques such as word embeddings, which map words to high-dimensional vectors.\n",
        "\n",
        "After preprocessing the data, we will then use the `LSTM` model to classify the fake news. We will train the model on the training data and evaluate its performance on the test data. We will also use techniques such as cross-validation to ensure that our model is generalizing well to unseen data.\n",
        "\n",
        "It is worth noting that we will be using a different dataset and deep learning model, which may produce different results compared to using machine learning models."
      ],
      "metadata": {
        "id": "p47YX7odIvuP"
      }
    },
    {
      "cell_type": "code",
      "execution_count": 2,
      "metadata": {
        "id": "nkqTfie2Y2iw"
      },
      "outputs": [],
      "source": [
        "import pandas as pd\n",
        "\n",
        "train = pd.read_csv(\"/content/drive/MyDrive/Colab Notebooks/datasets/fake-news/train.csv\")\n",
        "test = pd.read_csv(\"/content/drive/MyDrive/Colab Notebooks/datasets/fake-news/test.csv\")"
      ]
    },
    {
      "cell_type": "code",
      "source": [
        "train.head()"
      ],
      "metadata": {
        "colab": {
          "base_uri": "https://localhost:8080/",
          "height": 206
        },
        "id": "Wz0xZgBwZkeW",
        "outputId": "1eea6c28-968e-4c77-fd80-e81518323eb0"
      },
      "execution_count": 3,
      "outputs": [
        {
          "output_type": "execute_result",
          "data": {
            "text/plain": [
              "   id                                              title              author  \\\n",
              "0   0  House Dem Aide: We Didn’t Even See Comey’s Let...       Darrell Lucus   \n",
              "1   1  FLYNN: Hillary Clinton, Big Woman on Campus - ...     Daniel J. Flynn   \n",
              "2   2                  Why the Truth Might Get You Fired  Consortiumnews.com   \n",
              "3   3  15 Civilians Killed In Single US Airstrike Hav...     Jessica Purkiss   \n",
              "4   4  Iranian woman jailed for fictional unpublished...      Howard Portnoy   \n",
              "\n",
              "                                                text  label  \n",
              "0  House Dem Aide: We Didn’t Even See Comey’s Let...      1  \n",
              "1  Ever get the feeling your life circles the rou...      0  \n",
              "2  Why the Truth Might Get You Fired October 29, ...      1  \n",
              "3  Videos 15 Civilians Killed In Single US Airstr...      1  \n",
              "4  Print \\nAn Iranian woman has been sentenced to...      1  "
            ],
            "text/html": [
              "\n",
              "  <div id=\"df-374eb22d-160a-4cac-b2a3-b2b160be9d2f\">\n",
              "    <div class=\"colab-df-container\">\n",
              "      <div>\n",
              "<style scoped>\n",
              "    .dataframe tbody tr th:only-of-type {\n",
              "        vertical-align: middle;\n",
              "    }\n",
              "\n",
              "    .dataframe tbody tr th {\n",
              "        vertical-align: top;\n",
              "    }\n",
              "\n",
              "    .dataframe thead th {\n",
              "        text-align: right;\n",
              "    }\n",
              "</style>\n",
              "<table border=\"1\" class=\"dataframe\">\n",
              "  <thead>\n",
              "    <tr style=\"text-align: right;\">\n",
              "      <th></th>\n",
              "      <th>id</th>\n",
              "      <th>title</th>\n",
              "      <th>author</th>\n",
              "      <th>text</th>\n",
              "      <th>label</th>\n",
              "    </tr>\n",
              "  </thead>\n",
              "  <tbody>\n",
              "    <tr>\n",
              "      <th>0</th>\n",
              "      <td>0</td>\n",
              "      <td>House Dem Aide: We Didn’t Even See Comey’s Let...</td>\n",
              "      <td>Darrell Lucus</td>\n",
              "      <td>House Dem Aide: We Didn’t Even See Comey’s Let...</td>\n",
              "      <td>1</td>\n",
              "    </tr>\n",
              "    <tr>\n",
              "      <th>1</th>\n",
              "      <td>1</td>\n",
              "      <td>FLYNN: Hillary Clinton, Big Woman on Campus - ...</td>\n",
              "      <td>Daniel J. Flynn</td>\n",
              "      <td>Ever get the feeling your life circles the rou...</td>\n",
              "      <td>0</td>\n",
              "    </tr>\n",
              "    <tr>\n",
              "      <th>2</th>\n",
              "      <td>2</td>\n",
              "      <td>Why the Truth Might Get You Fired</td>\n",
              "      <td>Consortiumnews.com</td>\n",
              "      <td>Why the Truth Might Get You Fired October 29, ...</td>\n",
              "      <td>1</td>\n",
              "    </tr>\n",
              "    <tr>\n",
              "      <th>3</th>\n",
              "      <td>3</td>\n",
              "      <td>15 Civilians Killed In Single US Airstrike Hav...</td>\n",
              "      <td>Jessica Purkiss</td>\n",
              "      <td>Videos 15 Civilians Killed In Single US Airstr...</td>\n",
              "      <td>1</td>\n",
              "    </tr>\n",
              "    <tr>\n",
              "      <th>4</th>\n",
              "      <td>4</td>\n",
              "      <td>Iranian woman jailed for fictional unpublished...</td>\n",
              "      <td>Howard Portnoy</td>\n",
              "      <td>Print \\nAn Iranian woman has been sentenced to...</td>\n",
              "      <td>1</td>\n",
              "    </tr>\n",
              "  </tbody>\n",
              "</table>\n",
              "</div>\n",
              "      <button class=\"colab-df-convert\" onclick=\"convertToInteractive('df-374eb22d-160a-4cac-b2a3-b2b160be9d2f')\"\n",
              "              title=\"Convert this dataframe to an interactive table.\"\n",
              "              style=\"display:none;\">\n",
              "        \n",
              "  <svg xmlns=\"http://www.w3.org/2000/svg\" height=\"24px\"viewBox=\"0 0 24 24\"\n",
              "       width=\"24px\">\n",
              "    <path d=\"M0 0h24v24H0V0z\" fill=\"none\"/>\n",
              "    <path d=\"M18.56 5.44l.94 2.06.94-2.06 2.06-.94-2.06-.94-.94-2.06-.94 2.06-2.06.94zm-11 1L8.5 8.5l.94-2.06 2.06-.94-2.06-.94L8.5 2.5l-.94 2.06-2.06.94zm10 10l.94 2.06.94-2.06 2.06-.94-2.06-.94-.94-2.06-.94 2.06-2.06.94z\"/><path d=\"M17.41 7.96l-1.37-1.37c-.4-.4-.92-.59-1.43-.59-.52 0-1.04.2-1.43.59L10.3 9.45l-7.72 7.72c-.78.78-.78 2.05 0 2.83L4 21.41c.39.39.9.59 1.41.59.51 0 1.02-.2 1.41-.59l7.78-7.78 2.81-2.81c.8-.78.8-2.07 0-2.86zM5.41 20L4 18.59l7.72-7.72 1.47 1.35L5.41 20z\"/>\n",
              "  </svg>\n",
              "      </button>\n",
              "      \n",
              "  <style>\n",
              "    .colab-df-container {\n",
              "      display:flex;\n",
              "      flex-wrap:wrap;\n",
              "      gap: 12px;\n",
              "    }\n",
              "\n",
              "    .colab-df-convert {\n",
              "      background-color: #E8F0FE;\n",
              "      border: none;\n",
              "      border-radius: 50%;\n",
              "      cursor: pointer;\n",
              "      display: none;\n",
              "      fill: #1967D2;\n",
              "      height: 32px;\n",
              "      padding: 0 0 0 0;\n",
              "      width: 32px;\n",
              "    }\n",
              "\n",
              "    .colab-df-convert:hover {\n",
              "      background-color: #E2EBFA;\n",
              "      box-shadow: 0px 1px 2px rgba(60, 64, 67, 0.3), 0px 1px 3px 1px rgba(60, 64, 67, 0.15);\n",
              "      fill: #174EA6;\n",
              "    }\n",
              "\n",
              "    [theme=dark] .colab-df-convert {\n",
              "      background-color: #3B4455;\n",
              "      fill: #D2E3FC;\n",
              "    }\n",
              "\n",
              "    [theme=dark] .colab-df-convert:hover {\n",
              "      background-color: #434B5C;\n",
              "      box-shadow: 0px 1px 3px 1px rgba(0, 0, 0, 0.15);\n",
              "      filter: drop-shadow(0px 1px 2px rgba(0, 0, 0, 0.3));\n",
              "      fill: #FFFFFF;\n",
              "    }\n",
              "  </style>\n",
              "\n",
              "      <script>\n",
              "        const buttonEl =\n",
              "          document.querySelector('#df-374eb22d-160a-4cac-b2a3-b2b160be9d2f button.colab-df-convert');\n",
              "        buttonEl.style.display =\n",
              "          google.colab.kernel.accessAllowed ? 'block' : 'none';\n",
              "\n",
              "        async function convertToInteractive(key) {\n",
              "          const element = document.querySelector('#df-374eb22d-160a-4cac-b2a3-b2b160be9d2f');\n",
              "          const dataTable =\n",
              "            await google.colab.kernel.invokeFunction('convertToInteractive',\n",
              "                                                     [key], {});\n",
              "          if (!dataTable) return;\n",
              "\n",
              "          const docLinkHtml = 'Like what you see? Visit the ' +\n",
              "            '<a target=\"_blank\" href=https://colab.research.google.com/notebooks/data_table.ipynb>data table notebook</a>'\n",
              "            + ' to learn more about interactive tables.';\n",
              "          element.innerHTML = '';\n",
              "          dataTable['output_type'] = 'display_data';\n",
              "          await google.colab.output.renderOutput(dataTable, element);\n",
              "          const docLink = document.createElement('div');\n",
              "          docLink.innerHTML = docLinkHtml;\n",
              "          element.appendChild(docLink);\n",
              "        }\n",
              "      </script>\n",
              "    </div>\n",
              "  </div>\n",
              "  "
            ]
          },
          "metadata": {},
          "execution_count": 3
        }
      ]
    },
    {
      "cell_type": "code",
      "source": [
        "test.head()"
      ],
      "metadata": {
        "id": "uOjkmptwDhTt",
        "outputId": "9ae62827-3f73-4ceb-8c80-7c585c49e45f",
        "colab": {
          "base_uri": "https://localhost:8080/",
          "height": 206
        }
      },
      "execution_count": 4,
      "outputs": [
        {
          "output_type": "execute_result",
          "data": {
            "text/plain": [
              "      id                                              title  \\\n",
              "0  20800  Specter of Trump Loosens Tongues, if Not Purse...   \n",
              "1  20801  Russian warships ready to strike terrorists ne...   \n",
              "2  20802  #NoDAPL: Native American Leaders Vow to Stay A...   \n",
              "3  20803  Tim Tebow Will Attempt Another Comeback, This ...   \n",
              "4  20804                    Keiser Report: Meme Wars (E995)   \n",
              "\n",
              "                    author                                               text  \n",
              "0         David Streitfeld  PALO ALTO, Calif.  —   After years of scorning...  \n",
              "1                      NaN  Russian warships ready to strike terrorists ne...  \n",
              "2            Common Dreams  Videos #NoDAPL: Native American Leaders Vow to...  \n",
              "3            Daniel Victor  If at first you don’t succeed, try a different...  \n",
              "4  Truth Broadcast Network  42 mins ago 1 Views 0 Comments 0 Likes 'For th...  "
            ],
            "text/html": [
              "\n",
              "  <div id=\"df-17f838c8-9357-46c0-a4ae-c0b323720559\">\n",
              "    <div class=\"colab-df-container\">\n",
              "      <div>\n",
              "<style scoped>\n",
              "    .dataframe tbody tr th:only-of-type {\n",
              "        vertical-align: middle;\n",
              "    }\n",
              "\n",
              "    .dataframe tbody tr th {\n",
              "        vertical-align: top;\n",
              "    }\n",
              "\n",
              "    .dataframe thead th {\n",
              "        text-align: right;\n",
              "    }\n",
              "</style>\n",
              "<table border=\"1\" class=\"dataframe\">\n",
              "  <thead>\n",
              "    <tr style=\"text-align: right;\">\n",
              "      <th></th>\n",
              "      <th>id</th>\n",
              "      <th>title</th>\n",
              "      <th>author</th>\n",
              "      <th>text</th>\n",
              "    </tr>\n",
              "  </thead>\n",
              "  <tbody>\n",
              "    <tr>\n",
              "      <th>0</th>\n",
              "      <td>20800</td>\n",
              "      <td>Specter of Trump Loosens Tongues, if Not Purse...</td>\n",
              "      <td>David Streitfeld</td>\n",
              "      <td>PALO ALTO, Calif.  —   After years of scorning...</td>\n",
              "    </tr>\n",
              "    <tr>\n",
              "      <th>1</th>\n",
              "      <td>20801</td>\n",
              "      <td>Russian warships ready to strike terrorists ne...</td>\n",
              "      <td>NaN</td>\n",
              "      <td>Russian warships ready to strike terrorists ne...</td>\n",
              "    </tr>\n",
              "    <tr>\n",
              "      <th>2</th>\n",
              "      <td>20802</td>\n",
              "      <td>#NoDAPL: Native American Leaders Vow to Stay A...</td>\n",
              "      <td>Common Dreams</td>\n",
              "      <td>Videos #NoDAPL: Native American Leaders Vow to...</td>\n",
              "    </tr>\n",
              "    <tr>\n",
              "      <th>3</th>\n",
              "      <td>20803</td>\n",
              "      <td>Tim Tebow Will Attempt Another Comeback, This ...</td>\n",
              "      <td>Daniel Victor</td>\n",
              "      <td>If at first you don’t succeed, try a different...</td>\n",
              "    </tr>\n",
              "    <tr>\n",
              "      <th>4</th>\n",
              "      <td>20804</td>\n",
              "      <td>Keiser Report: Meme Wars (E995)</td>\n",
              "      <td>Truth Broadcast Network</td>\n",
              "      <td>42 mins ago 1 Views 0 Comments 0 Likes 'For th...</td>\n",
              "    </tr>\n",
              "  </tbody>\n",
              "</table>\n",
              "</div>\n",
              "      <button class=\"colab-df-convert\" onclick=\"convertToInteractive('df-17f838c8-9357-46c0-a4ae-c0b323720559')\"\n",
              "              title=\"Convert this dataframe to an interactive table.\"\n",
              "              style=\"display:none;\">\n",
              "        \n",
              "  <svg xmlns=\"http://www.w3.org/2000/svg\" height=\"24px\"viewBox=\"0 0 24 24\"\n",
              "       width=\"24px\">\n",
              "    <path d=\"M0 0h24v24H0V0z\" fill=\"none\"/>\n",
              "    <path d=\"M18.56 5.44l.94 2.06.94-2.06 2.06-.94-2.06-.94-.94-2.06-.94 2.06-2.06.94zm-11 1L8.5 8.5l.94-2.06 2.06-.94-2.06-.94L8.5 2.5l-.94 2.06-2.06.94zm10 10l.94 2.06.94-2.06 2.06-.94-2.06-.94-.94-2.06-.94 2.06-2.06.94z\"/><path d=\"M17.41 7.96l-1.37-1.37c-.4-.4-.92-.59-1.43-.59-.52 0-1.04.2-1.43.59L10.3 9.45l-7.72 7.72c-.78.78-.78 2.05 0 2.83L4 21.41c.39.39.9.59 1.41.59.51 0 1.02-.2 1.41-.59l7.78-7.78 2.81-2.81c.8-.78.8-2.07 0-2.86zM5.41 20L4 18.59l7.72-7.72 1.47 1.35L5.41 20z\"/>\n",
              "  </svg>\n",
              "      </button>\n",
              "      \n",
              "  <style>\n",
              "    .colab-df-container {\n",
              "      display:flex;\n",
              "      flex-wrap:wrap;\n",
              "      gap: 12px;\n",
              "    }\n",
              "\n",
              "    .colab-df-convert {\n",
              "      background-color: #E8F0FE;\n",
              "      border: none;\n",
              "      border-radius: 50%;\n",
              "      cursor: pointer;\n",
              "      display: none;\n",
              "      fill: #1967D2;\n",
              "      height: 32px;\n",
              "      padding: 0 0 0 0;\n",
              "      width: 32px;\n",
              "    }\n",
              "\n",
              "    .colab-df-convert:hover {\n",
              "      background-color: #E2EBFA;\n",
              "      box-shadow: 0px 1px 2px rgba(60, 64, 67, 0.3), 0px 1px 3px 1px rgba(60, 64, 67, 0.15);\n",
              "      fill: #174EA6;\n",
              "    }\n",
              "\n",
              "    [theme=dark] .colab-df-convert {\n",
              "      background-color: #3B4455;\n",
              "      fill: #D2E3FC;\n",
              "    }\n",
              "\n",
              "    [theme=dark] .colab-df-convert:hover {\n",
              "      background-color: #434B5C;\n",
              "      box-shadow: 0px 1px 3px 1px rgba(0, 0, 0, 0.15);\n",
              "      filter: drop-shadow(0px 1px 2px rgba(0, 0, 0, 0.3));\n",
              "      fill: #FFFFFF;\n",
              "    }\n",
              "  </style>\n",
              "\n",
              "      <script>\n",
              "        const buttonEl =\n",
              "          document.querySelector('#df-17f838c8-9357-46c0-a4ae-c0b323720559 button.colab-df-convert');\n",
              "        buttonEl.style.display =\n",
              "          google.colab.kernel.accessAllowed ? 'block' : 'none';\n",
              "\n",
              "        async function convertToInteractive(key) {\n",
              "          const element = document.querySelector('#df-17f838c8-9357-46c0-a4ae-c0b323720559');\n",
              "          const dataTable =\n",
              "            await google.colab.kernel.invokeFunction('convertToInteractive',\n",
              "                                                     [key], {});\n",
              "          if (!dataTable) return;\n",
              "\n",
              "          const docLinkHtml = 'Like what you see? Visit the ' +\n",
              "            '<a target=\"_blank\" href=https://colab.research.google.com/notebooks/data_table.ipynb>data table notebook</a>'\n",
              "            + ' to learn more about interactive tables.';\n",
              "          element.innerHTML = '';\n",
              "          dataTable['output_type'] = 'display_data';\n",
              "          await google.colab.output.renderOutput(dataTable, element);\n",
              "          const docLink = document.createElement('div');\n",
              "          docLink.innerHTML = docLinkHtml;\n",
              "          element.appendChild(docLink);\n",
              "        }\n",
              "      </script>\n",
              "    </div>\n",
              "  </div>\n",
              "  "
            ]
          },
          "metadata": {},
          "execution_count": 4
        }
      ]
    },
    {
      "cell_type": "code",
      "source": [
        "train.info()"
      ],
      "metadata": {
        "id": "ZgYQ4X37iK2k",
        "outputId": "1f0e5ed6-fb14-4e1c-f14c-c92d1eadd7a1",
        "colab": {
          "base_uri": "https://localhost:8080/"
        }
      },
      "execution_count": 5,
      "outputs": [
        {
          "output_type": "stream",
          "name": "stdout",
          "text": [
            "<class 'pandas.core.frame.DataFrame'>\n",
            "RangeIndex: 20800 entries, 0 to 20799\n",
            "Data columns (total 5 columns):\n",
            " #   Column  Non-Null Count  Dtype \n",
            "---  ------  --------------  ----- \n",
            " 0   id      20800 non-null  int64 \n",
            " 1   title   20242 non-null  object\n",
            " 2   author  18843 non-null  object\n",
            " 3   text    20761 non-null  object\n",
            " 4   label   20800 non-null  int64 \n",
            "dtypes: int64(2), object(3)\n",
            "memory usage: 812.6+ KB\n"
          ]
        }
      ]
    },
    {
      "cell_type": "markdown",
      "source": [
        "The \"author\" column in the dataset has a high number of missing values, and for the classification task, it is not a significant feature. Therefore, we will remove it from both the training and testing data. We also drop the \"id\" column."
      ],
      "metadata": {
        "id": "xIvsIbSMkyOr"
      }
    },
    {
      "cell_type": "code",
      "source": [
        "train = train.drop(['author',\"id\"], axis=1)\n",
        "test = test.drop(['author', \"id\"], axis=1)"
      ],
      "metadata": {
        "id": "ZpNaG6ciklks"
      },
      "execution_count": 6,
      "outputs": []
    },
    {
      "cell_type": "code",
      "source": [
        "train.info()"
      ],
      "metadata": {
        "id": "svfjccn0lPUL",
        "outputId": "707d71af-fe02-400e-804d-476976146e02",
        "colab": {
          "base_uri": "https://localhost:8080/"
        }
      },
      "execution_count": 7,
      "outputs": [
        {
          "output_type": "stream",
          "name": "stdout",
          "text": [
            "<class 'pandas.core.frame.DataFrame'>\n",
            "RangeIndex: 20800 entries, 0 to 20799\n",
            "Data columns (total 3 columns):\n",
            " #   Column  Non-Null Count  Dtype \n",
            "---  ------  --------------  ----- \n",
            " 0   title   20242 non-null  object\n",
            " 1   text    20761 non-null  object\n",
            " 2   label   20800 non-null  int64 \n",
            "dtypes: int64(1), object(2)\n",
            "memory usage: 487.6+ KB\n"
          ]
        }
      ]
    },
    {
      "cell_type": "markdown",
      "source": [
        "We will remove the missing values from both the training and testing datasets. Additionally, we will combine the \"title\" and \"text\" columns into a single \"all_text\" column, similar to what we did before."
      ],
      "metadata": {
        "id": "W-dzRfIxl5Ey"
      }
    },
    {
      "cell_type": "code",
      "source": [
        "train = train.dropna()\n",
        "test = test.dropna()\n",
        "\n",
        "X_train = train[\"title\"]\n",
        "X_test = test[\"title\"]\n",
        "\n",
        "y_train = train['label']\n",
        "\n",
        "X_train.shape, y_train.shape "
      ],
      "metadata": {
        "id": "R9Z9E2ArZuOh",
        "colab": {
          "base_uri": "https://localhost:8080/"
        },
        "outputId": "a2bf2146-9100-4fb0-c8e7-efef55f03666"
      },
      "execution_count": 9,
      "outputs": [
        {
          "output_type": "execute_result",
          "data": {
            "text/plain": [
              "((20203,), (20203,))"
            ]
          },
          "metadata": {},
          "execution_count": 9
        }
      ]
    },
    {
      "cell_type": "markdown",
      "source": [
        "## Onehot Representation\n",
        "\n",
        "In the `one-hot` representation of text data, each word in the vocabulary is assigned a unique integer value based on the vocabulary size. The text is then represented as a vector of integers, where the value at each dimension corresponds to the integer value of the word. \n",
        "\n",
        "For example, consider a vocabulary of 3 words: [\"dog\", \"cat\", \"bird\"]. The words are assigned integer values as [1,2,3] respectively. If the text is \"dog bird\", the one-hot representation would be [1,3]."
      ],
      "metadata": {
        "id": "lGz9tp9cJBF3"
      }
    },
    {
      "cell_type": "code",
      "source": [
        "from tensorflow import keras\n",
        "from keras.layers import Embedding, LSTM, Dense\n",
        "from keras_preprocessing.sequence import pad_sequences\n",
        "from keras.models import Sequential\n",
        "from keras.preprocessing.text import one_hot, text_to_word_sequence\n",
        "\n",
        "import nltk,re\n",
        "from nltk.corpus import stopwords"
      ],
      "metadata": {
        "id": "TDbgDcTCJf-u"
      },
      "execution_count": 10,
      "outputs": []
    },
    {
      "cell_type": "code",
      "source": [
        "messages = train.copy()\n",
        "messages.reset_index(inplace = True)"
      ],
      "metadata": {
        "id": "IfEExYwYJyf2"
      },
      "execution_count": 15,
      "outputs": []
    },
    {
      "cell_type": "code",
      "source": [
        "nltk.download('stopwords')"
      ],
      "metadata": {
        "colab": {
          "base_uri": "https://localhost:8080/"
        },
        "id": "eAMW5EL4KEBG",
        "outputId": "f24aa114-7eeb-4e0f-debd-9303aa042e19"
      },
      "execution_count": 16,
      "outputs": [
        {
          "output_type": "stream",
          "name": "stderr",
          "text": [
            "[nltk_data] Downloading package stopwords to /root/nltk_data...\n",
            "[nltk_data]   Package stopwords is already up-to-date!\n"
          ]
        },
        {
          "output_type": "execute_result",
          "data": {
            "text/plain": [
              "True"
            ]
          },
          "metadata": {},
          "execution_count": 16
        }
      ]
    },
    {
      "cell_type": "markdown",
      "source": [
        "`PorterStemmer` is a type of stemmer algorithm that is one of the most widely-used stemmer algorithms for English text. The algorithm is based on a set of heuristic rules that are used to remove the common suffixes from words in order to arrive at the root form of the word.\n",
        "\n",
        "The `NLTK (Natural Language Toolkit)` library in Python includes an implementation of the Porter stemmer algorithm."
      ],
      "metadata": {
        "id": "e9PVRaHVwRly"
      }
    },
    {
      "cell_type": "code",
      "source": [
        "from nltk.stem.porter import PorterStemmer\n",
        "ps = PorterStemmer()\n",
        "corpus_title = []\n",
        "for i in range(0,len(messages)):\n",
        "  review = re.sub(\"[^a-zA-Z]\", \" \", messages[\"title\"][i])\n",
        "  review = review.lower()\n",
        "  review = review.split()\n",
        "  review = [ps.stem(word) for word in review if not word in stopwords.words('english')]\n",
        "  review = ' '.join(review)\n",
        "  corpus_title.append(review)"
      ],
      "metadata": {
        "id": "OjUlTPgTKHKm"
      },
      "execution_count": 17,
      "outputs": []
    },
    {
      "cell_type": "code",
      "source": [
        "voc_size = 5000\n",
        "\n",
        "onehot_title = [one_hot(words, voc_size) for words in corpus_title]\n",
        "print(onehot_title[0])"
      ],
      "metadata": {
        "colab": {
          "base_uri": "https://localhost:8080/"
        },
        "id": "_RwPI9dqNuwD",
        "outputId": "36ec1535-b05d-4802-d3a9-e3f99c073bde"
      },
      "execution_count": 18,
      "outputs": [
        {
          "output_type": "stream",
          "name": "stdout",
          "text": [
            "[810, 4674, 301, 953, 2653, 4484, 1768, 4138, 2352, 2289]\n"
          ]
        }
      ]
    },
    {
      "cell_type": "code",
      "source": [
        "import matplotlib.pyplot as plt\n",
        "plt.plot([len(title) for title in onehot_title])\n",
        "plt.show()"
      ],
      "metadata": {
        "id": "XCLaskT1Jrtw",
        "outputId": "2bfd5cdc-7655-47dc-88e1-34b419f5cc6d",
        "colab": {
          "base_uri": "https://localhost:8080/",
          "height": 265
        }
      },
      "execution_count": 20,
      "outputs": [
        {
          "output_type": "display_data",
          "data": {
            "text/plain": [
              "<Figure size 432x288 with 1 Axes>"
            ],
            "image/png": "[encoded data removed]"
          },
          "metadata": {
            "needs_background": "light"
          }
        }
      ]
    },
    {
      "cell_type": "code",
      "source": [
        "#onehot_text = [one_hot(messages['text'][i], voc_size, filters='!\"#$%&()*+,-./:;<=>?@[\\\\]^_`{|}~\\t\\n') for i in range(0, len(messages))]"
      ],
      "metadata": {
        "id": "FPA9R0CklTqV"
      },
      "execution_count": null,
      "outputs": []
    },
    {
      "cell_type": "markdown",
      "source": [
        "##Embedding Representation (with only title)"
      ],
      "metadata": {
        "id": "X2dqLfZYkRtN"
      }
    },
    {
      "cell_type": "code",
      "source": [
        "sent_length = 30\n",
        "embedded_title = pad_sequences(onehot_title, padding=\"post\", maxlen=sent_length)"
      ],
      "metadata": {
        "id": "LoXdjfZnkOpT"
      },
      "execution_count": 21,
      "outputs": []
    },
    {
      "cell_type": "code",
      "source": [
        "#creating model\n",
        "emb_vec_features = 100\n",
        "model = Sequential()\n",
        "model.add(Embedding(voc_size, emb_vec_features, input_length=sent_length))\n",
        "model.add(LSTM(100))\n",
        "model.add(Dense(1, activation='sigmoid'))\n",
        "model.compile(loss='binary_crossentropy', optimizer='adam', metrics=['accuracy'])\n",
        "print(model.summary())"
      ],
      "metadata": {
        "colab": {
          "base_uri": "https://localhost:8080/"
        },
        "id": "UmU_WAHHn0MH",
        "outputId": "7bf2119e-649f-4735-8b41-c563299fc1f6"
      },
      "execution_count": 22,
      "outputs": [
        {
          "output_type": "stream",
          "name": "stdout",
          "text": [
            "Model: \"sequential\"\n",
            "_________________________________________________________________\n",
            " Layer (type)                Output Shape              Param #   \n",
            "=================================================================\n",
            " embedding (Embedding)       (None, 30, 100)           500000    \n",
            "                                                                 \n",
            " lstm (LSTM)                 (None, 100)               80400     \n",
            "                                                                 \n",
            " dense (Dense)               (None, 1)                 101       \n",
            "                                                                 \n",
            "=================================================================\n",
            "Total params: 580,501\n",
            "Trainable params: 580,501\n",
            "Non-trainable params: 0\n",
            "_________________________________________________________________\n",
            "None\n"
          ]
        }
      ]
    },
    {
      "cell_type": "code",
      "source": [
        "import numpy as np\n",
        "X_train = np.array(embedded_title)\n",
        "y_train = np.array(y_train)"
      ],
      "metadata": {
        "id": "f9Dk1UQLos9Q"
      },
      "execution_count": 23,
      "outputs": []
    },
    {
      "cell_type": "code",
      "source": [
        "X_train.shape, y_train.shape"
      ],
      "metadata": {
        "colab": {
          "base_uri": "https://localhost:8080/"
        },
        "id": "UI412SwfpTXP",
        "outputId": "2a776790-a3df-44fd-afa9-5b8eb973a856"
      },
      "execution_count": 24,
      "outputs": [
        {
          "output_type": "execute_result",
          "data": {
            "text/plain": [
              "((20203, 30), (20203,))"
            ]
          },
          "metadata": {},
          "execution_count": 24
        }
      ]
    },
    {
      "cell_type": "markdown",
      "source": [
        "##Model Training"
      ],
      "metadata": {
        "id": "HHDnv3Empbf-"
      }
    },
    {
      "cell_type": "code",
      "source": [
        "model.fit(X_train, y_train, validation_split=0.2, epochs=10, batch_size=64)"
      ],
      "metadata": {
        "colab": {
          "base_uri": "https://localhost:8080/"
        },
        "id": "VqYNoe_0pXBG",
        "outputId": "b9d4c41c-0de4-41f0-f3fd-8aa6d4609f6d"
      },
      "execution_count": 25,
      "outputs": [
        {
          "output_type": "stream",
          "name": "stdout",
          "text": [
            "Epoch 1/10\n",
            "253/253 [==============================] - 9s 9ms/step - loss: 0.2868 - accuracy: 0.8673 - val_loss: 0.1934 - val_accuracy: 0.9213\n",
            "Epoch 2/10\n",
            "253/253 [==============================] - 2s 7ms/step - loss: 0.1437 - accuracy: 0.9474 - val_loss: 0.1994 - val_accuracy: 0.9183\n",
            "Epoch 3/10\n",
            "253/253 [==============================] - 2s 7ms/step - loss: 0.1104 - accuracy: 0.9615 - val_loss: 0.1998 - val_accuracy: 0.9169\n",
            "Epoch 4/10\n",
            "253/253 [==============================] - 2s 7ms/step - loss: 0.0866 - accuracy: 0.9694 - val_loss: 0.2983 - val_accuracy: 0.9141\n",
            "Epoch 5/10\n",
            "253/253 [==============================] - 2s 7ms/step - loss: 0.0707 - accuracy: 0.9750 - val_loss: 0.3290 - val_accuracy: 0.9109\n",
            "Epoch 6/10\n",
            "253/253 [==============================] - 2s 7ms/step - loss: 0.0637 - accuracy: 0.9782 - val_loss: 0.3455 - val_accuracy: 0.9077\n",
            "Epoch 7/10\n",
            "253/253 [==============================] - 2s 7ms/step - loss: 0.0470 - accuracy: 0.9839 - val_loss: 0.4248 - val_accuracy: 0.9032\n",
            "Epoch 8/10\n",
            "253/253 [==============================] - 2s 7ms/step - loss: 0.0354 - accuracy: 0.9877 - val_loss: 0.3981 - val_accuracy: 0.9047\n",
            "Epoch 9/10\n",
            "253/253 [==============================] - 2s 7ms/step - loss: 0.0250 - accuracy: 0.9924 - val_loss: 0.3881 - val_accuracy: 0.9099\n",
            "Epoch 10/10\n",
            "253/253 [==============================] - 2s 7ms/step - loss: 0.0223 - accuracy: 0.9933 - val_loss: 0.3531 - val_accuracy: 0.8854\n"
          ]
        },
        {
          "output_type": "execute_result",
          "data": {
            "text/plain": [
              "<keras.callbacks.History at 0x7f3fd01ba0d0>"
            ]
          },
          "metadata": {},
          "execution_count": 25
        }
      ]
    },
    {
      "cell_type": "markdown",
      "source": [
        "We are getting **99.4**% training accuracy on and **92.2**% validation accuracy on the best epoch.  "
      ],
      "metadata": {
        "id": "PBv1EsnoreVa"
      }
    },
    {
      "cell_type": "markdown",
      "source": [
        "##Adding Dropout Layers"
      ],
      "metadata": {
        "id": "aubrS1JgqS6b"
      }
    },
    {
      "cell_type": "code",
      "source": [
        "from keras.layers import Dropout\n",
        "##creating model with dropout\n",
        "emb_vec_features = 40\n",
        "model = Sequential()\n",
        "model.add(Embedding(voc_size, emb_vec_features, input_length=sent_length))\n",
        "model.add(Dropout(0.3))\n",
        "model.add(LSTM(100))\n",
        "model.add(Dropout(0.3))\n",
        "model.add(Dense(1, activation='sigmoid'))\n",
        "model.compile(loss='binary_crossentropy', optimizer='adam', metrics=['accuracy'])\n",
        "print(model.summary())"
      ],
      "metadata": {
        "colab": {
          "base_uri": "https://localhost:8080/"
        },
        "id": "2E5tKxbIqQf0",
        "outputId": "df9607fa-5f25-450d-d7e5-c01c284cd094"
      },
      "execution_count": 26,
      "outputs": [
        {
          "output_type": "stream",
          "name": "stdout",
          "text": [
            "Model: \"sequential_1\"\n",
            "_________________________________________________________________\n",
            " Layer (type)                Output Shape              Param #   \n",
            "=================================================================\n",
            " embedding_1 (Embedding)     (None, 30, 40)            200000    \n",
            "                                                                 \n",
            " dropout (Dropout)           (None, 30, 40)            0         \n",
            "                                                                 \n",
            " lstm_1 (LSTM)               (None, 100)               56400     \n",
            "                                                                 \n",
            " dropout_1 (Dropout)         (None, 100)               0         \n",
            "                                                                 \n",
            " dense_1 (Dense)             (None, 1)                 101       \n",
            "                                                                 \n",
            "=================================================================\n",
            "Total params: 256,501\n",
            "Trainable params: 256,501\n",
            "Non-trainable params: 0\n",
            "_________________________________________________________________\n",
            "None\n"
          ]
        }
      ]
    },
    {
      "cell_type": "code",
      "source": [
        "model.fit(X_train, y_train, validation_split=0.2, epochs=10, batch_size=64)"
      ],
      "metadata": {
        "colab": {
          "base_uri": "https://localhost:8080/"
        },
        "id": "WAnfaCqUrZdt",
        "outputId": "97e902e5-5d47-42fa-b4f1-a3e1046d24e3"
      },
      "execution_count": 28,
      "outputs": [
        {
          "output_type": "stream",
          "name": "stdout",
          "text": [
            "Epoch 1/10\n",
            "253/253 [==============================] - 4s 8ms/step - loss: 0.3245 - accuracy: 0.8363 - val_loss: 0.1955 - val_accuracy: 0.9213\n",
            "Epoch 2/10\n",
            "253/253 [==============================] - 2s 7ms/step - loss: 0.1572 - accuracy: 0.9422 - val_loss: 0.1963 - val_accuracy: 0.9235\n",
            "Epoch 3/10\n",
            "253/253 [==============================] - 2s 7ms/step - loss: 0.1268 - accuracy: 0.9532 - val_loss: 0.2245 - val_accuracy: 0.9238\n",
            "Epoch 4/10\n",
            "253/253 [==============================] - 2s 7ms/step - loss: 0.1053 - accuracy: 0.9624 - val_loss: 0.2339 - val_accuracy: 0.9235\n",
            "Epoch 5/10\n",
            "253/253 [==============================] - 2s 7ms/step - loss: 0.0860 - accuracy: 0.9692 - val_loss: 0.2436 - val_accuracy: 0.9243\n",
            "Epoch 6/10\n",
            "253/253 [==============================] - 2s 7ms/step - loss: 0.0694 - accuracy: 0.9753 - val_loss: 0.2965 - val_accuracy: 0.9191\n",
            "Epoch 7/10\n",
            "253/253 [==============================] - 2s 7ms/step - loss: 0.0614 - accuracy: 0.9788 - val_loss: 0.3128 - val_accuracy: 0.9129\n",
            "Epoch 8/10\n",
            "253/253 [==============================] - 2s 7ms/step - loss: 0.0564 - accuracy: 0.9813 - val_loss: 0.3289 - val_accuracy: 0.9161\n",
            "Epoch 9/10\n",
            "253/253 [==============================] - 2s 7ms/step - loss: 0.0437 - accuracy: 0.9848 - val_loss: 0.3420 - val_accuracy: 0.9193\n",
            "Epoch 10/10\n",
            "253/253 [==============================] - 2s 7ms/step - loss: 0.0378 - accuracy: 0.9874 - val_loss: 0.2868 - val_accuracy: 0.9164\n"
          ]
        },
        {
          "output_type": "execute_result",
          "data": {
            "text/plain": [
              "<keras.callbacks.History at 0x7f3f7c217c10>"
            ]
          },
          "metadata": {},
          "execution_count": 28
        }
      ]
    },
    {
      "cell_type": "markdown",
      "source": [
        "By adding dropout layers we get **92.86**% validation accuracy on best epoch."
      ],
      "metadata": {
        "id": "m0XcJISJr_Bz"
      }
    },
    {
      "cell_type": "code",
      "source": [],
      "metadata": {
        "id": "bJ1G_Q4ft6FC"
      },
      "execution_count": null,
      "outputs": []
    }
  ]
}